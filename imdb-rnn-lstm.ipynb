{
 "cells": [
  {
   "cell_type": "markdown",
   "id": "dd46ff6c",
   "metadata": {
    "id": "SI0CCRYGbsLX",
    "papermill": {
     "duration": 0.003654,
     "end_time": "2025-06-09T15:58:53.757002",
     "exception": false,
     "start_time": "2025-06-09T15:58:53.753348",
     "status": "completed"
    },
    "tags": []
   },
   "source": [
    "# 第7回講義 宿題"
   ]
  },
  {
   "cell_type": "code",
   "execution_count": null,
   "id": "f82b8a6f",
   "metadata": {
    "papermill": {
     "duration": 0.002406,
     "end_time": "2025-06-09T15:58:53.762271",
     "exception": false,
     "start_time": "2025-06-09T15:58:53.759865",
     "status": "completed"
    },
    "tags": []
   },
   "outputs": [],
   "source": []
  },
  {
   "cell_type": "markdown",
   "id": "c53675e7",
   "metadata": {
    "id": "jhZjl_2gbsLf",
    "papermill": {
     "duration": 0.002447,
     "end_time": "2025-06-09T15:58:53.767298",
     "exception": false,
     "start_time": "2025-06-09T15:58:53.764851",
     "status": "completed"
    },
    "tags": []
   },
   "source": [
    "### 課題\n",
    "RNNを用いてIMDbのsentiment analysisを実装してみましょう．\n",
    "\n",
    "ネットワークの形などに制限はとくになく，今回のLessonで扱った内容以外の工夫も組み込んでもらって構いません．"
   ]
  },
  {
   "cell_type": "markdown",
   "id": "3ca7d1af",
   "metadata": {
    "id": "NBcfs2VybsLj",
    "papermill": {
     "duration": 0.002342,
     "end_time": "2025-06-09T15:58:53.772131",
     "exception": false,
     "start_time": "2025-06-09T15:58:53.769789",
     "status": "completed"
    },
    "tags": []
   },
   "source": [
    "### 目標値\n",
    "F値：0.85"
   ]
  },
  {
   "cell_type": "code",
   "execution_count": 1,
   "id": "d5884842",
   "metadata": {
    "execution": {
     "iopub.execute_input": "2025-06-09T15:58:53.778414Z",
     "iopub.status.busy": "2025-06-09T15:58:53.778118Z",
     "iopub.status.idle": "2025-06-09T15:59:06.388473Z",
     "shell.execute_reply": "2025-06-09T15:59:06.387618Z"
    },
    "id": "4X9ptijybsLz",
    "outputId": "cfa8ac80-87e6-4d30-aa00-179949d9897c",
    "papermill": {
     "duration": 12.61506,
     "end_time": "2025-06-09T15:59:06.389699",
     "exception": false,
     "start_time": "2025-06-09T15:58:53.774639",
     "status": "completed"
    },
    "tags": []
   },
   "outputs": [
    {
     "name": "stdout",
     "output_type": "stream",
     "text": [
      "Collecting portalocker\r\n",
      "  Downloading portalocker-3.1.1-py3-none-any.whl.metadata (8.6 kB)\r\n",
      "Downloading portalocker-3.1.1-py3-none-any.whl (19 kB)\r\n",
      "Installing collected packages: portalocker\r\n",
      "Successfully installed portalocker-3.1.1\r\n",
      "単語種数: 88587\n"
     ]
    }
   ],
   "source": [
    "!pip install portalocker\n",
    "\n",
    "import random\n",
    "import numpy as np\n",
    "import torch\n",
    "import torch.nn as nn\n",
    "import torch.optim as optim\n",
    "import torch.autograd as autograd\n",
    "import torch.nn.functional as F\n",
    "from torch.utils.data import DataLoader\n",
    "from torch.nn.utils.rnn import pad_sequence\n",
    "from sklearn.metrics import f1_score\n",
    "from sklearn.model_selection import train_test_split\n",
    "from collections import Counter\n",
    "import pandas as pd\n",
    "import string\n",
    "import re\n",
    "from typing import List, Union\n",
    "\n",
    "seed = 1234\n",
    "torch.manual_seed(seed)\n",
    "np.random.seed(seed)\n",
    "random.seed(seed)\n",
    "\n",
    "\n",
    "# 学習データ\n",
    "x_train = np.load('/kaggle/input/imdb-dataset/x_train.npy', allow_pickle=True)\n",
    "t_train = np.load('/kaggle/input/imdb-dataset/t_train.npy', allow_pickle=True)\n",
    "\n",
    "# 検証データを取る\n",
    "x_train, x_valid, t_train, t_valid = train_test_split(x_train, t_train, test_size=0.2, random_state=seed)\n",
    "\n",
    "# テストデータ\n",
    "x_test = np.load('/kaggle/input/imdb-dataset/x_test.npy', allow_pickle=True)\n",
    "\n",
    "\n",
    "def text_transform(text: List[int], max_length=256):\n",
    "    # <BOS>はすでに1で入っている．<EOS>は2とする．\n",
    "    text = text[:max_length - 1] + [2]\n",
    "\n",
    "    return text, len(text)\n",
    "\n",
    "def collate_batch(batch):\n",
    "    label_list, text_list, len_seq_list = [], [], []\n",
    "\n",
    "    for sample in batch:\n",
    "        if isinstance(sample, tuple):\n",
    "            label, text = sample\n",
    "\n",
    "            label_list.append(label)\n",
    "        else:\n",
    "            text = sample.copy()\n",
    "\n",
    "        text, len_seq = text_transform(text)\n",
    "        text_list.append(torch.tensor(text))\n",
    "        len_seq_list.append(len_seq)\n",
    "\n",
    "    # NOTE: 宿題用データセットでは<PAD>は3です．\n",
    "    return torch.tensor(label_list), pad_sequence(text_list, padding_value=3).T, torch.tensor(len_seq_list)\n",
    "\n",
    "\n",
    "word_num = np.concatenate(np.concatenate((x_train, x_test))).max() + 1\n",
    "print(f\"単語種数: {word_num}\")"
   ]
  },
  {
   "cell_type": "code",
   "execution_count": 2,
   "id": "c766de03",
   "metadata": {
    "execution": {
     "iopub.execute_input": "2025-06-09T15:59:06.397201Z",
     "iopub.status.busy": "2025-06-09T15:59:06.396830Z",
     "iopub.status.idle": "2025-06-09T15:59:06.408736Z",
     "shell.execute_reply": "2025-06-09T15:59:06.408130Z"
    },
    "id": "EIQ-km5gkVB8",
    "outputId": "af845edd-995a-4902-b240-b44eafe8018a",
    "papermill": {
     "duration": 0.016769,
     "end_time": "2025-06-09T15:59:06.409716",
     "exception": false,
     "start_time": "2025-06-09T15:59:06.392947",
     "status": "completed"
    },
    "tags": []
   },
   "outputs": [
    {
     "name": "stdout",
     "output_type": "stream",
     "text": [
      "7\n",
      "2494\n"
     ]
    }
   ],
   "source": [
    "min_len = min(len(x) for x in x_train)\n",
    "print(min_len) # Max 7 tokens\n",
    "max_len = max(len(x) for x in x_train)\n",
    "print(max_len) # Min 2494 tokens"
   ]
  },
  {
   "cell_type": "code",
   "execution_count": 3,
   "id": "0fcee40c",
   "metadata": {
    "execution": {
     "iopub.execute_input": "2025-06-09T15:59:06.416631Z",
     "iopub.status.busy": "2025-06-09T15:59:06.416415Z",
     "iopub.status.idle": "2025-06-09T15:59:06.419335Z",
     "shell.execute_reply": "2025-06-09T15:59:06.418782Z"
    },
    "id": "2Y31ypAzt0bM",
    "papermill": {
     "duration": 0.00759,
     "end_time": "2025-06-09T15:59:06.420374",
     "exception": false,
     "start_time": "2025-06-09T15:59:06.412784",
     "status": "completed"
    },
    "tags": []
   },
   "outputs": [],
   "source": [
    "# (backbone = LSTM -> Attention)"
   ]
  },
  {
   "cell_type": "code",
   "execution_count": 4,
   "id": "0c253ed0",
   "metadata": {
    "execution": {
     "iopub.execute_input": "2025-06-09T15:59:06.426878Z",
     "iopub.status.busy": "2025-06-09T15:59:06.426665Z",
     "iopub.status.idle": "2025-06-09T15:59:06.431952Z",
     "shell.execute_reply": "2025-06-09T15:59:06.431253Z"
    },
    "id": "cjA6ePA5esZ3",
    "outputId": "61135a21-ad8e-4b8c-8fd7-f1ed340e4009",
    "papermill": {
     "duration": 0.00975,
     "end_time": "2025-06-09T15:59:06.433059",
     "exception": false,
     "start_time": "2025-06-09T15:59:06.423309",
     "status": "completed"
    },
    "tags": []
   },
   "outputs": [
    {
     "data": {
      "text/plain": [
       "((32000,), (32000,), (8000,), (8000,), (10000,))"
      ]
     },
     "execution_count": 4,
     "metadata": {},
     "output_type": "execute_result"
    }
   ],
   "source": [
    "x_train.shape, t_train.shape, x_valid.shape, t_valid.shape, x_test.shape"
   ]
  },
  {
   "cell_type": "code",
   "execution_count": 5,
   "id": "65cb10c3",
   "metadata": {
    "execution": {
     "iopub.execute_input": "2025-06-09T15:59:06.440425Z",
     "iopub.status.busy": "2025-06-09T15:59:06.440068Z",
     "iopub.status.idle": "2025-06-09T15:59:06.443347Z",
     "shell.execute_reply": "2025-06-09T15:59:06.442804Z"
    },
    "id": "7PRRgV-pympm",
    "papermill": {
     "duration": 0.00792,
     "end_time": "2025-06-09T15:59:06.444365",
     "exception": false,
     "start_time": "2025-06-09T15:59:06.436445",
     "status": "completed"
    },
    "tags": []
   },
   "outputs": [],
   "source": [
    "def seed(seed=1234):\n",
    "  torch.manual_seed(seed)\n",
    "  np.random.seed(seed)\n",
    "  random.seed(seed)"
   ]
  },
  {
   "cell_type": "markdown",
   "id": "6214d0af",
   "metadata": {
    "id": "WIKgr01wbsL5",
    "papermill": {
     "duration": 0.002859,
     "end_time": "2025-06-09T15:59:06.450296",
     "exception": false,
     "start_time": "2025-06-09T15:59:06.447437",
     "status": "completed"
    },
    "tags": []
   },
   "source": [
    "### 実装"
   ]
  },
  {
   "cell_type": "code",
   "execution_count": 6,
   "id": "c018fe58",
   "metadata": {
    "execution": {
     "iopub.execute_input": "2025-06-09T15:59:06.457162Z",
     "iopub.status.busy": "2025-06-09T15:59:06.456617Z",
     "iopub.status.idle": "2025-06-09T15:59:06.482274Z",
     "shell.execute_reply": "2025-06-09T15:59:06.481522Z"
    },
    "id": "WPhmbQtagOvH",
    "papermill": {
     "duration": 0.030249,
     "end_time": "2025-06-09T15:59:06.483440",
     "exception": false,
     "start_time": "2025-06-09T15:59:06.453191",
     "status": "completed"
    },
    "tags": []
   },
   "outputs": [],
   "source": [
    "batch_size = 128\n",
    "\n",
    "train_dataloader = DataLoader(\n",
    "    [(t, x) for t, x in zip(t_train, x_train)],\n",
    "    batch_size=batch_size,\n",
    "    shuffle=True,\n",
    "    collate_fn=collate_batch,\n",
    ")\n",
    "valid_dataloader = DataLoader(\n",
    "    [(t, x) for t, x in zip(t_valid, x_valid)],\n",
    "    batch_size=batch_size,\n",
    "    shuffle=False,\n",
    "    collate_fn=collate_batch,\n",
    ")\n",
    "test_dataloader = DataLoader(\n",
    "    x_test,\n",
    "    batch_size=batch_size,\n",
    "    shuffle=False,\n",
    "    collate_fn=collate_batch,\n",
    ")"
   ]
  },
  {
   "cell_type": "code",
   "execution_count": 7,
   "id": "9d9e2e8e",
   "metadata": {
    "execution": {
     "iopub.execute_input": "2025-06-09T15:59:06.490584Z",
     "iopub.status.busy": "2025-06-09T15:59:06.490368Z",
     "iopub.status.idle": "2025-06-09T15:59:06.502142Z",
     "shell.execute_reply": "2025-06-09T15:59:06.501452Z"
    },
    "id": "w6j2soNLbsL7",
    "papermill": {
     "duration": 0.016558,
     "end_time": "2025-06-09T15:59:06.503168",
     "exception": false,
     "start_time": "2025-06-09T15:59:06.486610",
     "status": "completed"
    },
    "tags": []
   },
   "outputs": [],
   "source": [
    "def torch_log(x):\n",
    "    return torch.log(torch.clamp(x, min=1e-10))\n",
    "\n",
    "\n",
    "class Embedding(nn.Module):\n",
    "    def _init_(self,vocab_size,emb_dim):\n",
    "        super()._init_()\n",
    "        self.embedding_matrix = nn.Parameter(torch.randn(vocab_size,emb_dim),dtype=torch.float)\n",
    "    def forward(self,x):\n",
    "        return F.embedding(x,self.embedding_matrix)\n",
    "\n",
    "class BidirectionalLSTM(nn.Module):\n",
    "    def __init__(self, in_dim, hid_dim):\n",
    "        super().__init__()\n",
    "        self.hid_dim = hid_dim\n",
    "        glorot = 6/(in_dim + hid_dim*2)\n",
    "\n",
    "        self.W_i = nn.Parameter(torch.tensor(np.random.uniform(\n",
    "                        low=-np.sqrt(glorot),\n",
    "                        high=np.sqrt(glorot),\n",
    "                        size=(in_dim + hid_dim, hid_dim)\n",
    "                    ).astype('float32')))\n",
    "        self.b_i = nn.Parameter(torch.tensor(np.zeros([hid_dim]).astype('float32')))\n",
    "\n",
    "        self.W_f = nn.Parameter(torch.tensor(np.random.uniform(\n",
    "                        low=-np.sqrt(glorot),\n",
    "                        high=np.sqrt(glorot),\n",
    "                        size=(in_dim + hid_dim, hid_dim)\n",
    "                    ).astype('float32')))\n",
    "        self.b_f = nn.Parameter(torch.tensor(np.zeros([hid_dim]).astype('float32')))\n",
    "\n",
    "        self.W_o = nn.Parameter(torch.tensor(np.random.uniform(\n",
    "                        low=-np.sqrt(glorot),\n",
    "                        high=np.sqrt(glorot),\n",
    "                        size=(in_dim + hid_dim, hid_dim)\n",
    "                    ).astype('float32')))\n",
    "        self.b_o = nn.Parameter(torch.tensor(np.zeros([hid_dim]).astype('float32')))\n",
    "\n",
    "        self.W_c = nn.Parameter(torch.tensor(np.random.uniform(\n",
    "                        low=-np.sqrt(glorot),\n",
    "                        high=np.sqrt(glorot),\n",
    "                        size=(in_dim + hid_dim, hid_dim)\n",
    "                    ).astype('float32')))\n",
    "        self.b_c = nn.Parameter(torch.tensor(np.zeros([hid_dim]).astype('float32')))\n",
    "    def function(self, state_c, state_h, x):\n",
    "        i = torch.sigmoid(torch.matmul(torch.cat([state_h, x], dim=1), self.W_i) + self.b_i)  # WRITE ME\n",
    "        f = torch.sigmoid(torch.matmul(torch.cat([state_h, x], dim=1), self.W_f) + self.b_f)  # WRITE ME\n",
    "        o = torch.sigmoid(torch.matmul(torch.cat([state_h, x], dim=1), self.W_o) + self.b_o)  # WRITE ME\n",
    "        c = f*state_c + i*torch.tanh(torch.matmul(torch.cat([state_h, x], dim=1), self.W_c) + self.b_c)  # WRITE ME\n",
    "        h = o*torch.tanh(c)\n",
    "        return c, h\n",
    "    def forward(self, x, len_seq_max=0, init_state_c=None, init_state_h=None):\n",
    "        x = x.transpose(0, 1)  # 系列のバッチ処理のため、次元の順番を「系列、バッチ」の順に入れ替える\n",
    "        state_c = init_state_c\n",
    "        state_h = init_state_h\n",
    "        if init_state_c is None:  # 初期値を設定しない場合は0で初期化する\n",
    "            state_c = torch.zeros((x[0].size()[0], self.hid_dim)).to(x.device)\n",
    "        if init_state_h is None:  # 初期値を設定しない場合は0で初期化する\n",
    "            state_h = torch.zeros((x[0].size()[0], self.hid_dim)).to(x.device)\n",
    "\n",
    "        size = list(state_h.unsqueeze(0).size())\n",
    "        size[0] = 0\n",
    "        output = torch.empty(size, dtype=torch.float).to(x.device)  # 一旦空テンソルを定義して順次出力を追加する\n",
    "\n",
    "        if len_seq_max == 0:\n",
    "            len_seq_max = x.size(0)\n",
    "        for i in range(len_seq_max):\n",
    "            state_c, state_h = self.function(state_c, state_h, x[i])\n",
    "            output = torch.cat([output, state_h.unsqueeze(0)])  # 出力系列の追加\n",
    "        return output\n"
   ]
  },
  {
   "cell_type": "code",
   "execution_count": 8,
   "id": "9e256d3d",
   "metadata": {
    "execution": {
     "iopub.execute_input": "2025-06-09T15:59:06.509811Z",
     "iopub.status.busy": "2025-06-09T15:59:06.509604Z",
     "iopub.status.idle": "2025-06-09T15:59:06.515957Z",
     "shell.execute_reply": "2025-06-09T15:59:06.515266Z"
    },
    "id": "9oMBBydx-FqL",
    "papermill": {
     "duration": 0.010815,
     "end_time": "2025-06-09T15:59:06.517008",
     "exception": false,
     "start_time": "2025-06-09T15:59:06.506193",
     "status": "completed"
    },
    "tags": []
   },
   "outputs": [],
   "source": [
    "class BidirectionalLSTM(nn.Module):\n",
    "    def __init__(self, word_num, emb_dim, hid_dim):\n",
    "        super().__init__()\n",
    "        # 順方向と逆方向のLSTMを用意する\n",
    "        self.emb = nn.Embedding(word_num, emb_dim)\n",
    "        self.forward_lstm = nn.LSTM(emb_dim, hid_dim, 1, batch_first=True)\n",
    "        self.backward_lstm = nn.LSTM(emb_dim, hid_dim, 1, batch_first=True)\n",
    "        self.linear = nn.Linear(hid_dim*2, 1)  # ForwardとBackwardの出力をconcatしたものを渡すので2倍\n",
    "\n",
    "    def forward(self, x, len_seq_max=0, len_seq=None, init_state=None):\n",
    "        h = self.emb(x)  # (batch_size, seq_length, emb_dim)\n",
    "\n",
    "        # Backwardにはシークエンスを反転して渡す\n",
    "        if len_seq_max > 0:\n",
    "            h1, _ = self.forward_lstm(h[:, 0:len_seq_max, :], init_state)\n",
    "            h2, _ = self.backward_lstm(torch.flip(h[:, 0:len_seq_max, :], dims=[1]), init_state)\n",
    "        else:\n",
    "            h1, _ = self.forward_lstm(h, init_state)  # (batch_size, seq_length, hid_dim)\n",
    "            h2, _ = self.backward_lstm(torch.flip(h, dims=[1]), init_state)  # (batch_size, seq_length, hid_dim)\n",
    "        # Backwardから返ってきたものを再び反転する\n",
    "        h2 = torch.flip(h2, dims=[1])\n",
    "\n",
    "        # ForwardとBackwardの出力を結合\n",
    "        h = torch.cat([h1, h2], dim=2).transpose(0, 1)\n",
    "\n",
    "        if len_seq is not None:\n",
    "            h = h[len_seq - 1, list(range(len(x))), :]\n",
    "        else:\n",
    "            h = h[-1]\n",
    "\n",
    "        y = self.linear(h)\n",
    "\n",
    "        return y"
   ]
  },
  {
   "cell_type": "code",
   "execution_count": 9,
   "id": "7bcda6ac",
   "metadata": {
    "execution": {
     "iopub.execute_input": "2025-06-09T15:59:06.523559Z",
     "iopub.status.busy": "2025-06-09T15:59:06.523362Z",
     "iopub.status.idle": "2025-06-09T15:59:06.526595Z",
     "shell.execute_reply": "2025-06-09T15:59:06.525915Z"
    },
    "id": "KFVf2vWnzi98",
    "papermill": {
     "duration": 0.007749,
     "end_time": "2025-06-09T15:59:06.527727",
     "exception": false,
     "start_time": "2025-06-09T15:59:06.519978",
     "status": "completed"
    },
    "tags": []
   },
   "outputs": [],
   "source": [
    "# class Attention(nn.Module):\n",
    "#     def __init_(self,)"
   ]
  },
  {
   "cell_type": "code",
   "execution_count": 10,
   "id": "47a93d40",
   "metadata": {
    "execution": {
     "iopub.execute_input": "2025-06-09T15:59:06.534759Z",
     "iopub.status.busy": "2025-06-09T15:59:06.534194Z",
     "iopub.status.idle": "2025-06-09T15:59:58.395799Z",
     "shell.execute_reply": "2025-06-09T15:59:58.394722Z"
    },
    "id": "9w3yjqqCl_Zb",
    "outputId": "f6864b16-62d0-4626-8a88-72da8e18f2b3",
    "papermill": {
     "duration": 51.866563,
     "end_time": "2025-06-09T15:59:58.397275",
     "exception": false,
     "start_time": "2025-06-09T15:59:06.530712",
     "status": "completed"
    },
    "tags": []
   },
   "outputs": [
    {
     "name": "stdout",
     "output_type": "stream",
     "text": [
      "EPOCH: 0, Train Loss: 0.620, Valid Loss: 0.580, Validation F1: 0.730\n",
      "EPOCH: 1, Train Loss: 0.458, Valid Loss: 0.444, Validation F1: 0.801\n",
      "EPOCH: 2, Train Loss: 0.364, Valid Loss: 0.436, Validation F1: 0.823\n",
      "EPOCH: 3, Train Loss: 0.291, Valid Loss: 0.384, Validation F1: 0.829\n",
      "EPOCH: 4, Train Loss: 0.242, Valid Loss: 0.401, Validation F1: 0.843\n",
      "EPOCH: 5, Train Loss: 0.190, Valid Loss: 0.375, Validation F1: 0.852\n",
      "EPOCH: 6, Train Loss: 0.162, Valid Loss: 0.408, Validation F1: 0.855\n",
      "EPOCH: 7, Train Loss: 0.128, Valid Loss: 0.425, Validation F1: 0.851\n",
      "EPOCH: 8, Train Loss: 0.101, Valid Loss: 0.479, Validation F1: 0.856\n",
      "EPOCH: 9, Train Loss: 0.085, Valid Loss: 0.537, Validation F1: 0.851\n"
     ]
    }
   ],
   "source": [
    "emb_dim = 100\n",
    "hid_dim = 50\n",
    "n_epochs = 10\n",
    "device = 'cuda' if torch.cuda.is_available() else 'cpu'\n",
    "\n",
    "net = BidirectionalLSTM(word_num, emb_dim, hid_dim)\n",
    "net.to(device)\n",
    "optimizer = optim.Adam(net.parameters())\n",
    "\n",
    "for epoch in range(n_epochs):\n",
    "    losses_train = []\n",
    "    losses_valid = []\n",
    "\n",
    "    net.train()\n",
    "    n_train = 0\n",
    "    acc_train = 0\n",
    "    for label, line, len_seq in train_dataloader:\n",
    "\n",
    "            net.zero_grad()\n",
    "\n",
    "            t = label.to(device)  # テンソルをGPUに移動\n",
    "            x = line.to(device) # ( batch, time )\n",
    "            len_seq.to(device)\n",
    "\n",
    "            h = net(x, torch.max(len_seq), len_seq)\n",
    "            y = torch.sigmoid(h).squeeze()\n",
    "\n",
    "            loss = -torch.mean(t*torch_log(y) + (1 - t)*torch_log(1 - y))\n",
    "\n",
    "            loss.backward()\n",
    "\n",
    "            # 勾配を絶対値1.0でクリッピングする\n",
    "            torch.nn.utils.clip_grad_norm_(net.parameters(), 1.0)\n",
    "\n",
    "            optimizer.step()\n",
    "\n",
    "            losses_train.append(loss.tolist())\n",
    "\n",
    "            n_train += t.size()[0]\n",
    "    # Valid\n",
    "    t_valid = []\n",
    "    y_pred = []\n",
    "    net.eval()\n",
    "    for label, line, len_seq in valid_dataloader:\n",
    "            t = label.to(device)  # テンソルをGPUに移動\n",
    "            x = line.to(device) # ( batch, time )\n",
    "            len_seq.to(device)\n",
    "\n",
    "            h = net(x, torch.max(len_seq), len_seq)\n",
    "            y = torch.sigmoid(h).squeeze()\n",
    "\n",
    "            loss = -torch.mean(t*torch_log(y) + (1 - t)*torch_log(1 - y))\n",
    "\n",
    "            pred = y.round().squeeze()\n",
    "\n",
    "            t_valid.extend(t.tolist())\n",
    "            y_pred.extend(pred.tolist())\n",
    "\n",
    "            losses_valid.append(loss.tolist())\n",
    "\n",
    "    print('EPOCH: {}, Train Loss: {:.3f}, Valid Loss: {:.3f}, Validation F1: {:.3f}'.format(\n",
    "        epoch,\n",
    "        np.mean(losses_train),\n",
    "        np.mean(losses_valid),\n",
    "        f1_score(t_valid, y_pred, average='macro')\n",
    "    ))"
   ]
  },
  {
   "cell_type": "code",
   "execution_count": 11,
   "id": "bbf16794",
   "metadata": {
    "execution": {
     "iopub.execute_input": "2025-06-09T15:59:58.406057Z",
     "iopub.status.busy": "2025-06-09T15:59:58.405618Z",
     "iopub.status.idle": "2025-06-09T15:59:59.056894Z",
     "shell.execute_reply": "2025-06-09T15:59:59.056127Z"
    },
    "id": "dQ8xtUcHj6IR",
    "papermill": {
     "duration": 0.656849,
     "end_time": "2025-06-09T15:59:59.058260",
     "exception": false,
     "start_time": "2025-06-09T15:59:58.401411",
     "status": "completed"
    },
    "tags": []
   },
   "outputs": [],
   "source": [
    "net.eval()\n",
    "\n",
    "y_pred = []\n",
    "for _, line, len_seq in test_dataloader:\n",
    "\n",
    "    x = line.to(device)\n",
    "    len_seq.to(device)\n",
    "\n",
    "    h = net(x, torch.max(len_seq), len_seq)\n",
    "    y = torch.sigmoid(h).squeeze()\n",
    "\n",
    "    pred = y.round().squeeze()  # 0.5以上の値を持つ要素を正ラベルと予測する\n",
    "\n",
    "    y_pred.extend(pred.tolist())\n",
    "\n",
    "\n",
    "submission = pd.Series(y_pred, name='label')\n",
    "submission.to_csv('/kaggle/working/submission_lstm.npy', header=True, index_label='id')"
   ]
  },
  {
   "cell_type": "code",
   "execution_count": null,
   "id": "ab0671cc",
   "metadata": {
    "id": "W-MRCNboHZNd",
    "papermill": {
     "duration": 0.003862,
     "end_time": "2025-06-09T15:59:59.065887",
     "exception": false,
     "start_time": "2025-06-09T15:59:59.062025",
     "status": "completed"
    },
    "tags": []
   },
   "outputs": [],
   "source": []
  }
 ],
 "metadata": {
  "accelerator": "GPU",
  "colab": {
   "provenance": []
  },
  "kaggle": {
   "accelerator": "gpu",
   "dataSources": [
    {
     "datasetId": 7624043,
     "sourceId": 12109318,
     "sourceType": "datasetVersion"
    }
   ],
   "dockerImageVersionId": 31040,
   "isGpuEnabled": true,
   "isInternetEnabled": true,
   "language": "python",
   "sourceType": "notebook"
  },
  "kernelspec": {
   "display_name": "Python 3",
   "language": "python",
   "name": "python3"
  },
  "language_info": {
   "codemirror_mode": {
    "name": "ipython",
    "version": 3
   },
   "file_extension": ".py",
   "mimetype": "text/x-python",
   "name": "python",
   "nbconvert_exporter": "python",
   "pygments_lexer": "ipython3",
   "version": "3.11.11"
  },
  "papermill": {
   "default_parameters": {},
   "duration": 72.25272,
   "end_time": "2025-06-09T16:00:01.867868",
   "environment_variables": {},
   "exception": null,
   "input_path": "__notebook__.ipynb",
   "output_path": "__notebook__.ipynb",
   "parameters": {},
   "start_time": "2025-06-09T15:58:49.615148",
   "version": "2.6.0"
  }
 },
 "nbformat": 4,
 "nbformat_minor": 5
}
